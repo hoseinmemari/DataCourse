{
 "cells": [
  {
   "cell_type": "markdown",
   "metadata": {},
   "source": [
    "1 تابعی بنویسید که یک عدد از ورودی دریافت کند و تمام اعدادی که بر آن بخشپذیر هستند را در یک \n",
    "لیست برگرداند. مثال اگر عدد 12 را به آن دادیم لیست زیر را برگرداند:\n",
    "[1,2,3,4,6,12]\n"
   ]
  },
  {
   "cell_type": "code",
   "execution_count": null,
   "metadata": {},
   "outputs": [],
   "source": [
    "def func1(x):\n",
    "    result = []\n",
    "    for i in range(1,x+1):\n",
    "        if x%(i) == 0:\n",
    "            result.append(i)\n",
    "    return result\n",
    "\n",
    "num = int(input('Please write a number'))\n",
    "print(func1(num))"
   ]
  },
  {
   "cell_type": "markdown",
   "metadata": {},
   "source": [
    "2 کلیه اعداد اول بین 100 تا 200 را چاپ نمایید."
   ]
  },
  {
   "cell_type": "code",
   "execution_count": null,
   "metadata": {},
   "outputs": [],
   "source": [
    "def isPrime(x):\n",
    "    primeNumber = True\n",
    "    for i in range(2,int(x**0.5)+1):\n",
    "        if x%i == 0:\n",
    "            primeNumber = False\n",
    "            break\n",
    "    return primeNumber\n",
    "\n",
    "\n",
    "\n",
    "for i in range(100,201):\n",
    "    if isPrime(i):\n",
    "        print(i,end=' ')\n"
   ]
  },
  {
   "cell_type": "markdown",
   "metadata": {},
   "source": [
    "3 در یک دیکشنری با نام mark نمرات دانشجویان ذخیره شده است. کلیدهای این دیکشنری نام \n",
    "دانشجویان و مقادیر آن نمرات آنها میباشد.\n",
    "برنامهای بنویسید که یک اسم از ورودی دریافت کند و در صورتی که نام دانشجو در دیکشنری موجود \n",
    "بود نمره او، و در غیر اینصورت پیغام »!dict in not is name This »را چاپ نماید"
   ]
  },
  {
   "cell_type": "code",
   "execution_count": null,
   "metadata": {},
   "outputs": [],
   "source": [
    "def func2(dict , name):\n",
    "    if str(name).capitalize() in dict:\n",
    "        print(dict[str(name).capitalize()])\n",
    "    else:\n",
    "        print('This name is not in the dict!')\n",
    "\n",
    "\n",
    "mark = {'Ali':14 , 'Soheil': 18 , 'Zahra': 16 , 'Maryam': 19 , 'Shahab': 20 , 'Hossein': 19.5}\n",
    "name = input('Please write the name')\n",
    "\n",
    "func2(mark , name)"
   ]
  }
 ],
 "metadata": {
  "kernelspec": {
   "display_name": "Python 3",
   "language": "python",
   "name": "python3"
  },
  "language_info": {
   "codemirror_mode": {
    "name": "ipython",
    "version": 3
   },
   "file_extension": ".py",
   "mimetype": "text/x-python",
   "name": "python",
   "nbconvert_exporter": "python",
   "pygments_lexer": "ipython3",
   "version": "3.12.2"
  }
 },
 "nbformat": 4,
 "nbformat_minor": 2
}
